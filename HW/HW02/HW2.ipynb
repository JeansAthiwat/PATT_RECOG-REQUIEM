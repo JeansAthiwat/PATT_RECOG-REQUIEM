{
  "cells": [
    {
      "cell_type": "code",
      "execution_count": 1,
      "metadata": {
        "id": "SacSEoJ0nQuA"
      },
      "outputs": [],
      "source": [
        "import pandas as pd\n",
        "import numpy as np\n",
        "import matplotlib.pyplot as plt\n",
        "import random as rnd\n",
        "import pandas as pd\n",
        "from scipy import stats"
      ]
    },
    {
      "cell_type": "markdown",
      "metadata": {},
      "source": [
        "# Simple Bayes Classifier"
      ]
    },
    {
      "cell_type": "code",
      "execution_count": 2,
      "metadata": {},
      "outputs": [],
      "source": [
        "import numpy as np\n",
        "import matplotlib.pyplot as plt\n",
        "\n",
        "class SimpleBayesClassifier:\n",
        "    def __init__(self, x=np.linspace(-7, 11, 100000),prior = {\"w1\": 0.75, \"w2\": 0.25},dist={\"w1\": (4,2), \"w2\": (0,2)}):  # Extended range for better visualization\n",
        "        self.x = x  # Range of x values\n",
        "        self.class_tag = {\"happy cat\": \"w1\", \"sad cat\": \"w2\"}\n",
        "        self.prior = prior\n",
        "        self.dist = dist\n",
        "        self.evidence = self.likelihood(x, \"w1\") * self.prior[\"w1\"] + \\\n",
        "                        self.likelihood(x, \"w2\") * self.prior[\"w2\"]\n",
        "    \n",
        "    def pdf(self, z, mean=0, var=1, dist_type=\"gaussian\"):\n",
        "        \"\"\"Calculate Gaussian PDF for given mean, variance, and z values.\"\"\"\n",
        "        if dist_type == \"gaussian\":\n",
        "            sd = np.sqrt(var)  # Standard deviation\n",
        "            pdf = (1 / (sd * np.sqrt(2 * np.pi))) * np.exp(-0.5 * ((z - mean) ** 2) / var)\n",
        "        return pdf\n",
        "    \n",
        "    def likelihood(self, x, w=\"w1\"):\n",
        "        \"\"\"Likelihood function for w1 (happy) or w2 (sad).\"\"\"\n",
        "        return self.pdf(x, mean=self.dist[w][0], var=self.dist[w][1])  # Class w1: mean=4, variance=2\n",
        "        \n",
        "    def posterior(self, x, w=\"w1\"):\n",
        "        \"\"\"Calculate the posterior probability P(w|x) for a given class.\"\"\"\n",
        "        likelihood = self.likelihood(x, w)\n",
        "        posterior = (likelihood * self.prior[w]) / self.evidence\n",
        "        return posterior\n",
        "    \n",
        "    def likelihood_ratio_test(self):\n",
        "        \"\"\"Find decision boundaries where likelihood ratio for w1 vs w2 equals 1.\"\"\"\n",
        "        likelihood_w1 = self.likelihood(self.x, w=\"w1\")\n",
        "        likelihood_w2 = self.likelihood(self.x, w=\"w2\")\n",
        "        likelihood_ratio = (likelihood_w1 * self.prior[\"w1\"]) / (likelihood_w2 * self.prior[\"w2\"])\n",
        "        \n",
        "        # Compute the difference from 1 to detect crossings\n",
        "        diff = likelihood_ratio - 1\n",
        "\n",
        "        # Find where the sign of diff changes\n",
        "        crossing_indices = np.where(np.diff(np.sign(diff)))[0]\n",
        "        \n",
        "        # Return x values at crossing points\n",
        "        decision_boundaries = self.x[crossing_indices]\n",
        "        return decision_boundaries\n",
        "\n",
        "    def plot_likelihood(self):\n",
        "        \"\"\"Plot the likelihoods P(x|w1) and P(x|w2) with decision boundaries.\"\"\"\n",
        "        likelihood_w1 = self.likelihood(self.x, w=\"w1\")\n",
        "        likelihood_w2 = self.likelihood(self.x, w=\"w2\")\n",
        "        decision_boundaries = self.likelihood_ratio_test()  # Get decision boundaries\n",
        "\n",
        "        plt.figure(figsize=(3, 2))\n",
        "        plt.plot(self.x, likelihood_w1, label=\"P(x|w1): Happy Cat\", color=\"blue\", linewidth=2)\n",
        "        plt.plot(self.x, likelihood_w2, label=\"P(x|w2): Sad Cat\", color=\"red\", linestyle=\"--\", linewidth=2)\n",
        "\n",
        "        # Plot decision boundaries as vertical black lines\n",
        "        for boundary in decision_boundaries:\n",
        "            plt.axvline(boundary, color=\"black\", linestyle=\":\", linewidth=1, label=\"Decision Boundary\")\n",
        "\n",
        "        plt.title(\"Likelihood of Food Amount\")\n",
        "        plt.xlabel(\"x (Amount of Food)\")\n",
        "        plt.ylabel(\"Likelihood (P(x|w))\")\n",
        "        plt.legend()\n",
        "        plt.grid(True)\n",
        "        plt.show()\n",
        "\n",
        "    def plot_posterior(self):\n",
        "        \"\"\"Plot the posterior probabilities P(w1|x) and P(w2|x) with decision boundaries.\"\"\"\n",
        "        posterior_w1 = self.posterior(self.x, w=\"w1\")\n",
        "        posterior_w2 = self.posterior(self.x, w=\"w2\")\n",
        "        decision_boundaries = self.likelihood_ratio_test()  # Get decision boundaries\n",
        "\n",
        "        plt.figure(figsize=(3, 2))\n",
        "        plt.plot(self.x, posterior_w1, label=\"P(w1|x): Happy Cat\", color=\"blue\", linewidth=2)\n",
        "        plt.plot(self.x, posterior_w2, label=\"P(w2|x): Sad Cat\", color=\"red\", linestyle=\"--\", linewidth=2)\n",
        "\n",
        "        # Plot decision boundaries as vertical black lines\n",
        "        for boundary in decision_boundaries:\n",
        "            plt.axvline(boundary, color=\"black\", linestyle=\":\", linewidth=1, label=\"Decision Boundary\")\n",
        "\n",
        "        plt.title(\"Posterior Probabilities\")\n",
        "        plt.xlabel(\"x (Amount of Food)\")\n",
        "        plt.ylabel(\"Posterior Probability P(w|x)\")\n",
        "        plt.legend()\n",
        "        plt.grid(True)\n",
        "        plt.show()\n",
        "\n"
      ]
    },
    {
      "cell_type": "code",
      "execution_count": 3,
      "metadata": {},
      "outputs": [
        {
          "data": {
            "image/png": "[encoded data removed]",
            "text/plain": [
              "<Figure size 300x200 with 1 Axes>"
            ]
          },
          "metadata": {},
          "output_type": "display_data"
        },
        {
          "data": {
            "image/png": "[encoded data removed]",
            "text/plain": [
              "<Figure size 300x200 with 1 Axes>"
            ]
          },
          "metadata": {},
          "output_type": "display_data"
        },
        {
          "name": "stdout",
          "output_type": "stream",
          "text": [
            "Decision Boundary Points: [1.45054451]\n"
          ]
        },
        {
          "data": {
            "image/png": "[encoded data removed]",
            "text/plain": [
              "<Figure size 300x200 with 1 Axes>"
            ]
          },
          "metadata": {},
          "output_type": "display_data"
        },
        {
          "data": {
            "image/png": "[encoded data removed]",
            "text/plain": [
              "<Figure size 300x200 with 1 Axes>"
            ]
          },
          "metadata": {},
          "output_type": "display_data"
        },
        {
          "name": "stdout",
          "output_type": "stream",
          "text": [
            "Decision Boundary Points: [2.10305103]\n"
          ]
        }
      ],
      "source": [
        "# Instantiate the classifier\n",
        "model = SimpleBayesClassifier()\n",
        "\n",
        "model.plot_likelihood()\n",
        "model.plot_posterior()\n",
        "decision_boundary = model.likelihood_ratio_test()\n",
        "print(\"Decision Boundary Points:\", decision_boundary)\n",
        "\n",
        "# Instantiate the classifier\n",
        "classifier2 = SimpleBayesClassifier(prior = {\"w1\": 0.5, \"w2\": 0.5},dist={\"w1\": (4,2), \"w2\": (0,4)})  # Extended range for better visualization)\n",
        "\n",
        "classifier2.plot_likelihood()\n",
        "classifier2.plot_posterior()\n",
        "decision_boundary2 = classifier2.likelihood_ratio_test()\n",
        "print(\"Decision Boundary Points:\", decision_boundary2)"
      ]
    },
    {
      "attachments": {},
      "cell_type": "markdown",
      "metadata": {
        "id": "qES4TJDxApaB"
      },
      "source": [
        "# Employee Attrition Prediction\n",
        "\n"
      ]
    },
    {
      "cell_type": "code",
      "execution_count": 4,
      "metadata": {
        "colab": {
          "base_uri": "https://localhost:8080/",
          "height": 369
        },
        "id": "ncRpzKlfBb48",
        "outputId": "d03ca374-c2ea-42eb-9922-dfa7d8e4b410"
      },
      "outputs": [
        {
          "name": "stdout",
          "output_type": "stream",
          "text": [
            "Index(['Unnamed: 0', 'Age', 'Attrition', 'BusinessTravel', 'DailyRate',\n",
            "       'Department', 'DistanceFromHome', 'Education', 'EducationField',\n",
            "       'EmployeeCount', 'EmployeeNumber', 'EnvironmentSatisfaction', 'Gender',\n",
            "       'HourlyRate', 'JobInvolvement', 'JobLevel', 'JobRole',\n",
            "       'JobSatisfaction', 'MaritalStatus', 'MonthlyIncome', 'MonthlyRate',\n",
            "       'NumCompaniesWorked', 'Over18', 'OverTime', 'PercentSalaryHike',\n",
            "       'PerformanceRating', 'RelationshipSatisfaction', 'StandardHours',\n",
            "       'StockOptionLevel', 'TotalWorkingYears', 'TrainingTimesLastYear',\n",
            "       'WorkLifeBalance', 'YearsAtCompany', 'YearsInCurrentRole',\n",
            "       'YearsSinceLastPromotion', 'YearsWithCurrManager'],\n",
            "      dtype='object')\n"
          ]
        },
        {
          "data": {
            "text/html": [
              "<div>\n",
              "<style scoped>\n",
              "    .dataframe tbody tr th:only-of-type {\n",
              "        vertical-align: middle;\n",
              "    }\n",
              "\n",
              "    .dataframe tbody tr th {\n",
              "        vertical-align: top;\n",
              "    }\n",
              "\n",
              "    .dataframe thead th {\n",
              "        text-align: right;\n",
              "    }\n",
              "</style>\n",
              "<table border=\"1\" class=\"dataframe\">\n",
              "  <thead>\n",
              "    <tr style=\"text-align: right;\">\n",
              "      <th></th>\n",
              "      <th>Unnamed: 0</th>\n",
              "      <th>Age</th>\n",
              "      <th>Attrition</th>\n",
              "      <th>BusinessTravel</th>\n",
              "      <th>DailyRate</th>\n",
              "      <th>Department</th>\n",
              "      <th>DistanceFromHome</th>\n",
              "      <th>Education</th>\n",
              "      <th>EducationField</th>\n",
              "      <th>EmployeeCount</th>\n",
              "      <th>...</th>\n",
              "      <th>RelationshipSatisfaction</th>\n",
              "      <th>StandardHours</th>\n",
              "      <th>StockOptionLevel</th>\n",
              "      <th>TotalWorkingYears</th>\n",
              "      <th>TrainingTimesLastYear</th>\n",
              "      <th>WorkLifeBalance</th>\n",
              "      <th>YearsAtCompany</th>\n",
              "      <th>YearsInCurrentRole</th>\n",
              "      <th>YearsSinceLastPromotion</th>\n",
              "      <th>YearsWithCurrManager</th>\n",
              "    </tr>\n",
              "  </thead>\n",
              "  <tbody>\n",
              "    <tr>\n",
              "      <th>0</th>\n",
              "      <td>0</td>\n",
              "      <td>41.0</td>\n",
              "      <td>Yes</td>\n",
              "      <td>Travel_Rarely</td>\n",
              "      <td>NaN</td>\n",
              "      <td>NaN</td>\n",
              "      <td>1.0</td>\n",
              "      <td>NaN</td>\n",
              "      <td>Life Sciences</td>\n",
              "      <td>1.0</td>\n",
              "      <td>...</td>\n",
              "      <td>1.0</td>\n",
              "      <td>80.0</td>\n",
              "      <td>0.0</td>\n",
              "      <td>8.0</td>\n",
              "      <td>0.0</td>\n",
              "      <td>NaN</td>\n",
              "      <td>6.0</td>\n",
              "      <td>NaN</td>\n",
              "      <td>0.0</td>\n",
              "      <td>NaN</td>\n",
              "    </tr>\n",
              "    <tr>\n",
              "      <th>1</th>\n",
              "      <td>1</td>\n",
              "      <td>NaN</td>\n",
              "      <td>No</td>\n",
              "      <td>NaN</td>\n",
              "      <td>279.0</td>\n",
              "      <td>Research &amp; Development</td>\n",
              "      <td>NaN</td>\n",
              "      <td>NaN</td>\n",
              "      <td>Life Sciences</td>\n",
              "      <td>1.0</td>\n",
              "      <td>...</td>\n",
              "      <td>4.0</td>\n",
              "      <td>NaN</td>\n",
              "      <td>1.0</td>\n",
              "      <td>10.0</td>\n",
              "      <td>NaN</td>\n",
              "      <td>3.0</td>\n",
              "      <td>10.0</td>\n",
              "      <td>NaN</td>\n",
              "      <td>NaN</td>\n",
              "      <td>7.0</td>\n",
              "    </tr>\n",
              "    <tr>\n",
              "      <th>2</th>\n",
              "      <td>2</td>\n",
              "      <td>37.0</td>\n",
              "      <td>Yes</td>\n",
              "      <td>NaN</td>\n",
              "      <td>1373.0</td>\n",
              "      <td>NaN</td>\n",
              "      <td>2.0</td>\n",
              "      <td>2.0</td>\n",
              "      <td>NaN</td>\n",
              "      <td>1.0</td>\n",
              "      <td>...</td>\n",
              "      <td>NaN</td>\n",
              "      <td>80.0</td>\n",
              "      <td>0.0</td>\n",
              "      <td>7.0</td>\n",
              "      <td>3.0</td>\n",
              "      <td>NaN</td>\n",
              "      <td>NaN</td>\n",
              "      <td>0.0</td>\n",
              "      <td>NaN</td>\n",
              "      <td>0.0</td>\n",
              "    </tr>\n",
              "    <tr>\n",
              "      <th>3</th>\n",
              "      <td>3</td>\n",
              "      <td>NaN</td>\n",
              "      <td>No</td>\n",
              "      <td>Travel_Frequently</td>\n",
              "      <td>1392.0</td>\n",
              "      <td>Research &amp; Development</td>\n",
              "      <td>3.0</td>\n",
              "      <td>4.0</td>\n",
              "      <td>Life Sciences</td>\n",
              "      <td>NaN</td>\n",
              "      <td>...</td>\n",
              "      <td>3.0</td>\n",
              "      <td>NaN</td>\n",
              "      <td>NaN</td>\n",
              "      <td>8.0</td>\n",
              "      <td>3.0</td>\n",
              "      <td>NaN</td>\n",
              "      <td>8.0</td>\n",
              "      <td>NaN</td>\n",
              "      <td>3.0</td>\n",
              "      <td>0.0</td>\n",
              "    </tr>\n",
              "    <tr>\n",
              "      <th>4</th>\n",
              "      <td>4</td>\n",
              "      <td>27.0</td>\n",
              "      <td>No</td>\n",
              "      <td>Travel_Rarely</td>\n",
              "      <td>591.0</td>\n",
              "      <td>Research &amp; Development</td>\n",
              "      <td>2.0</td>\n",
              "      <td>1.0</td>\n",
              "      <td>Medical</td>\n",
              "      <td>1.0</td>\n",
              "      <td>...</td>\n",
              "      <td>4.0</td>\n",
              "      <td>80.0</td>\n",
              "      <td>1.0</td>\n",
              "      <td>6.0</td>\n",
              "      <td>NaN</td>\n",
              "      <td>3.0</td>\n",
              "      <td>2.0</td>\n",
              "      <td>2.0</td>\n",
              "      <td>2.0</td>\n",
              "      <td>NaN</td>\n",
              "    </tr>\n",
              "  </tbody>\n",
              "</table>\n",
              "<p>5 rows × 36 columns</p>\n",
              "</div>"
            ],
            "text/plain": [
              "   Unnamed: 0   Age Attrition     BusinessTravel  DailyRate  \\\n",
              "0           0  41.0       Yes      Travel_Rarely        NaN   \n",
              "1           1   NaN        No                NaN      279.0   \n",
              "2           2  37.0       Yes                NaN     1373.0   \n",
              "3           3   NaN        No  Travel_Frequently     1392.0   \n",
              "4           4  27.0        No      Travel_Rarely      591.0   \n",
              "\n",
              "               Department  DistanceFromHome  Education EducationField  \\\n",
              "0                     NaN               1.0        NaN  Life Sciences   \n",
              "1  Research & Development               NaN        NaN  Life Sciences   \n",
              "2                     NaN               2.0        2.0            NaN   \n",
              "3  Research & Development               3.0        4.0  Life Sciences   \n",
              "4  Research & Development               2.0        1.0        Medical   \n",
              "\n",
              "   EmployeeCount  ...  RelationshipSatisfaction  StandardHours  \\\n",
              "0            1.0  ...                       1.0           80.0   \n",
              "1            1.0  ...                       4.0            NaN   \n",
              "2            1.0  ...                       NaN           80.0   \n",
              "3            NaN  ...                       3.0            NaN   \n",
              "4            1.0  ...                       4.0           80.0   \n",
              "\n",
              "  StockOptionLevel  TotalWorkingYears  TrainingTimesLastYear  WorkLifeBalance  \\\n",
              "0              0.0                8.0                    0.0              NaN   \n",
              "1              1.0               10.0                    NaN              3.0   \n",
              "2              0.0                7.0                    3.0              NaN   \n",
              "3              NaN                8.0                    3.0              NaN   \n",
              "4              1.0                6.0                    NaN              3.0   \n",
              "\n",
              "  YearsAtCompany  YearsInCurrentRole YearsSinceLastPromotion  \\\n",
              "0            6.0                 NaN                     0.0   \n",
              "1           10.0                 NaN                     NaN   \n",
              "2            NaN                 0.0                     NaN   \n",
              "3            8.0                 NaN                     3.0   \n",
              "4            2.0                 2.0                     2.0   \n",
              "\n",
              "   YearsWithCurrManager  \n",
              "0                   NaN  \n",
              "1                   7.0  \n",
              "2                   0.0  \n",
              "3                   0.0  \n",
              "4                   NaN  \n",
              "\n",
              "[5 rows x 36 columns]"
            ]
          },
          "execution_count": 4,
          "metadata": {},
          "output_type": "execute_result"
        }
      ],
      "source": [
        "### read CSV\n",
        "df = pd.read_csv('hr-employee-attrition-with-null.csv')\n",
        "# df.describe()\n",
        "print(df.columns)\n",
        "df.head()"
      ]
    },
    {
      "attachments": {},
      "cell_type": "markdown",
      "metadata": {
        "id": "NApae3ygBbEa"
      },
      "source": [
        "### Feature transformation"
      ]
    },
    {
      "cell_type": "code",
      "execution_count": 5,
      "metadata": {
        "id": "9C3vuRArBKEe"
      },
      "outputs": [],
      "source": [
        "def preprocess_df(df):\n",
        "    df.loc[df[\"Attrition\"] == \"no\", \"Attrition\"] = 0.0\n",
        "    df.loc[df[\"Attrition\"] == \"yes\", \"Attrition\"] = 1.0\n",
        "\n",
        "    string_categorical_col = ['Department', 'Attrition', 'BusinessTravel', 'EducationField', 'Gender', 'JobRole',\n",
        "                                'MaritalStatus', 'Over18', 'OverTime']\n",
        "\n",
        "    # ENCODE STRING COLUMNS TO CATEGORICAL COLUMNS\n",
        "    for col in string_categorical_col:\n",
        "        # INSERT CODE HERE\n",
        "        # print(pd.Categorical(df[col]).codes)\n",
        "        df[col] = pd.Categorical(df[col]).codes\n",
        "    # # HANDLE NULL NUMBERS\n",
        "    # # INSERT CODE HERE\n",
        "\n",
        "    df = df.loc[:, ~df.columns.isin(['EmployeeNumber', 'Unnamed: 0', 'EmployeeCount', 'StandardHours', 'Over18'])]\n",
        "    return df\n",
        "\n",
        "def pd_to_np(df):\n",
        "    x = df.loc[:, ~df.columns.isin([\"Attrition\"])].to_numpy() \n",
        "    y = df[\"Attrition\"].to_numpy()\n",
        "    return x, y "
      ]
    },
    {
      "attachments": {},
      "cell_type": "markdown",
      "metadata": {
        "id": "q1sVXHQBGAQJ"
      },
      "source": [
        "###  Spliting data into train and test"
      ]
    },
    {
      "cell_type": "code",
      "execution_count": 6,
      "metadata": {},
      "outputs": [],
      "source": [
        "from sklearn.model_selection import train_test_split"
      ]
    },
    {
      "attachments": {},
      "cell_type": "markdown",
      "metadata": {
        "id": "edasSXrRHuFm"
      },
      "source": [
        "### Display histogram of each feature"
      ]
    },
    {
      "cell_type": "code",
      "execution_count": 7,
      "metadata": {},
      "outputs": [],
      "source": [
        "\n",
        "\n",
        "# def discretize_histogram(df, col_name, cls=None, n_bin=10, expand_range=False, plot=True):\n",
        "#     # Remove NaN values\n",
        "#     df_no_nan = df[~np.isnan(df[col_name])]\n",
        "    \n",
        "#     # Bin the data into equally spaced bins\n",
        "#     hist, bin_edge = np.histogram(df_no_nan[col_name], bins=n_bin)\n",
        "#     print(f\"histlen: {hist.shape}, bin_edgelen : {bin_edge.shape}\")\n",
        "#     print(hist)\n",
        "#     if expand_range:\n",
        "#         bin_edge[0] = -np.inf\n",
        "#         bin_edge[-1] = np.inf\n",
        "#     # cls[col_name] = {\"hist\":hist, \"bin_edge\":bin_edge}\n",
        "    \n",
        "#     if plot:\n",
        "#         # Plot the histogram\n",
        "#         plt.figure(figsize=(4, 2))  # Set figure size for better readability\n",
        "#         plt.fill_between(bin_edge.repeat(2)[1:-1], hist.repeat(2), facecolor='steelblue', alpha=0.7, label='Data Distribution')\n",
        "        \n",
        "#         # Add bin count annotations\n",
        "#         for i in range(len(hist)):\n",
        "#             plt.text(\n",
        "#                 (bin_edge[i] + bin_edge[i+1]) / 2,  # Position: middle of each bin\n",
        "#                 hist[i],                           # Position: height of the bin\n",
        "#                 str(hist[i]),                      # Text: count of each bin\n",
        "#                 ha='center', va='bottom', fontsize=8, color='darkblue'\n",
        "#             )\n",
        "        \n",
        "#         # Add labels and title\n",
        "#         plt.title(f'Histogram of {col_name}', fontsize=14)\n",
        "#         plt.xlabel(col_name, fontsize=12)\n",
        "#         plt.ylabel('Frequency', fontsize=12)\n",
        "#         plt.grid(alpha=0.2)\n",
        "#         plt.legend(loc='upper right')\n",
        "        \n",
        "#         # Display the plot\n",
        "#         plt.show()\n",
        "#     return hist, bin_edge\n",
        "\n",
        "# def digitize_df_with_capping(df, bin_edge, col_name, n_bin):\n",
        "#     # Ensure column is numeric\n",
        "#     df_no_nan = df[~np.isnan(df[col_name])]\n",
        "#     df_numeric = pd.to_numeric(df_no_nan[col_name], errors='coerce')\n",
        "#     print(\"len\", len(df_numeric))\n",
        "#     # Cap out-of-range values to the first or last bin\n",
        "#     df_capped = df_numeric.clip(lower=bin_edge[0], upper=bin_edge[-2])\n",
        "    \n",
        "#     # Digitize data\n",
        "#     digitized_col = np.digitize(df_capped, bin_edge, right=False)\n",
        "    \n",
        "#     # Count bins\n",
        "#     bin_counts = np.bincount(digitized_col)[1:]  # Ignore index 0 (out-of-range bin)\n",
        "#     print(\"counts:\", np.sum(bin_counts))\n",
        "#     return digitized_col, bin_counts\n",
        "\n",
        "\n",
        "\n",
        "# cls = dict()\n",
        "# # Iterate over all columns in the DataFrame\n",
        "# for col_name in [\"Age\"]:#,\"MonthlyIncome\",'DistanceFromHome']:\n",
        "#     hist, bin_edge = discretize_histogram(df_train, col_name, cls,n_bin=10, expand_range=False, plot=True)\n",
        "#     cls[col_name] = {\"hist\":hist, \"bin_edge\":bin_edge}\n",
        "#     print(cls[col_name][\"bin_edge\"])\n",
        "    \n",
        "# col_name = \"Age\"\n",
        "# x = digitize_df_with_capping(df_train, bin_edge=cls[\"Age\"][\"bin_edge\"], col_name=\"Age\",n_bin=10)\n",
        "# # # Iterate over all columns in the DataFrame\n",
        "# # for col_name in df_train.columns:\n",
        "# #     discretize_histogram(df_train, col_name, cls, plot=False)\n",
        "#     # print(cls[col_name][\"bin_edge\"])\n",
        "# x"
      ]
    },
    {
      "attachments": {},
      "cell_type": "markdown",
      "metadata": {
        "id": "6wH3pKLhLKw1"
      },
      "source": [
        "### T4. Observe the histogram for Age, MonthlyIncome and DistanceFromHome. How many bins have zero counts? Do you think this is a good discretization? Why?"
      ]
    },
    {
      "attachments": {},
      "cell_type": "markdown",
      "metadata": {
        "id": "BaLY_n3oOlGe"
      },
      "source": [
        "### T5. Can we use a Gaussian to estimate this histogram? Why? What about a Gaussian Mixture Model (GMM)?"
      ]
    },
    {
      "attachments": {},
      "cell_type": "markdown",
      "metadata": {
        "id": "JMbbl306QrEs"
      },
      "source": [
        "### T6. Now plot the histogram according to the method described above (with 10, 40, and 100 bins) and show 3 plots each for Age, MonthlyIncome, and DistanceFromHome. Which bin size is most sensible for each features? Why?"
      ]
    },
    {
      "attachments": {},
      "cell_type": "markdown",
      "metadata": {
        "id": "NlpUyIIuN0Hi"
      },
      "source": [
        "### T7. For the rest of the features, which one should be discretized in order to be modeled by histograms? What are the criteria for choosing whether we should discretize a feature or not? Answer this and discretize those features into 10 bins each. In other words, figure out the bin edge for each feature, then use digitize() to convert the features to discrete values"
      ]
    },
    {
      "attachments": {},
      "cell_type": "markdown",
      "metadata": {
        "id": "SJHkqbcSPwMW"
      },
      "source": [
        "### T8. What kind of distribution should we use to model histograms? (Answer a distribution name) What is the MLE for the likelihood distribution? (Describe how to do the MLE). Plot the likelihood distributions of MonthlyIncome, JobRole, HourlyRate, and MaritalStatus for different Attrition values."
      ]
    },
    {
      "attachments": {},
      "cell_type": "markdown",
      "metadata": {
        "id": "c_1EvThSWAwi"
      },
      "source": [
        "### T9. What is the prior distribution of the two classes?"
      ]
    },
    {
      "attachments": {},
      "cell_type": "markdown",
      "metadata": {
        "id": "JdEyB5Q7WSqI"
      },
      "source": [
        "### T10. If we use the current Naive Bayes with our current Maximum Likelihood Estimates, we will find that some P (x i |attrition) will be zero and will result in the entire product term to be zero. Propose a method to fix this problem."
      ]
    },
    {
      "attachments": {},
      "cell_type": "markdown",
      "metadata": {
        "id": "17O4iza4WX1X"
      },
      "source": [
        "### T11. Implement your Naive Bayes classifier. Use the learned distributions to classify the test set. Don’t forget to allow your classifier to handle missing values in the test set. Report the overall Accuracy. Then, report the Precision, Recall, and F score for detecting attrition. See Lecture 1 for the definitions of each metric.\n"
      ]
    },
    {
      "cell_type": "code",
      "execution_count": 8,
      "metadata": {},
      "outputs": [],
      "source": [
        "class SimpleBayesClassifier:\n",
        "\n",
        "    def __init__(self, n_pos, n_neg):\n",
        "        \"\"\"\n",
        "        Initializes the SimpleBayesClassifier with prior probabilities.\n",
        "\n",
        "        Parameters:\n",
        "        n_pos (int): The number of positive samples.\n",
        "        n_neg (int): The number of negative samples.\n",
        "\n",
        "        Returns:\n",
        "        None: This method does not return anything as it is a constructor.\n",
        "        \"\"\"\n",
        "\n",
        "        self.n_pos = n_pos\n",
        "        self.n_neg = n_neg\n",
        "        self.prior_pos = n_pos / (n_pos + n_neg)\n",
        "        self.prior_neg = n_neg / (n_pos + n_neg)\n",
        "\n",
        "    @staticmethod\n",
        "    def get_x_by_attrition(x, y):\n",
        "        \"\"\"Separates the data into 'stay' and 'leave' based on labels.\"\"\"\n",
        "        return x[y == 0], x[y == 1]\n",
        "\n",
        "    @staticmethod\n",
        "    def compute_histogram(x_data, n_bins):\n",
        "        \"\"\"\n",
        "        Computes the normalized histogram and its logarithm for a given dataset.\n",
        "        \"\"\"\n",
        "        hist, bin_edges = np.histogram(x_data, bins=n_bins)\n",
        "\n",
        "        return hist, bin_edges[1:-1]\n",
        "    \n",
        "    @staticmethod\n",
        "    def compute_gaussian_param(x_data):\n",
        "        # Compute the mean and variance\n",
        "        mean = np.mean(x_data)\n",
        "        variance = np.var(x_data)\n",
        "        return mean, variance\n",
        "    \n",
        "    def fit_params(self, x, y, n_bins=10):\n",
        "        \"\"\"\n",
        "        Computes histogram-based parameters for each feature in the dataset.\n",
        "\n",
        "        Parameters:\n",
        "        x (np.ndarray): The feature matrix, where rows are samples and columns are features.\n",
        "        y (np.ndarray): The target array, where each element corresponds to the label of a sample.\n",
        "        n_bins (int): Number of bins to use for histogram calculation.\n",
        "\n",
        "        Returns:\n",
        "        (stay_params, leave_params): A tuple containing two lists of tuples,\n",
        "        one for 'stay' parameters and one for 'leave' parameters.\n",
        "        Each tuple in the list contains the bins and edges of the histogram for a feature.\n",
        "        \"\"\"\n",
        "\n",
        "        self.stay_params = [(None, None) for _ in range(x.shape[1])]\n",
        "        self.leave_params = [(None, None) for _ in range(x.shape[1])]\n",
        "\n",
        "        # INSERT CODE HERE\n",
        "\n",
        "        # calculate given that it is a stay/leave class what is the prob of x appearing\n",
        "        x_stay, x_leave = self.get_x_by_attrition(x,y)\n",
        "        # print(x_stay)\n",
        "\n",
        "        for feat_i in range(x.shape[1]):\n",
        "            x_stay_feat = x_stay[~np.isnan(x_stay[:, feat_i]), feat_i]\n",
        "            x_leave_feat = x_leave[~np.isnan(x_leave[:, feat_i]), feat_i]\n",
        "            \n",
        "            self.stay_params[feat_i] = self.compute_histogram(x_stay_feat, n_bins)\n",
        "            self.leave_params[feat_i] = self.compute_histogram(x_leave_feat, n_bins)\n",
        "\n",
        "        return self.stay_params, self.leave_params\n",
        "\n",
        "    def predict(self, x, thresh=0):\n",
        "        \"\"\"\n",
        "        Predicts the class labels for the given samples using the non-parametric model.\n",
        "\n",
        "        Parameters:\n",
        "        x (np.ndarray): The feature matrix for which predictions are to be made.\n",
        "        thresh (float): The threshold for log probability to decide between classes.\n",
        "\n",
        "        Returns:\n",
        "        result (list): A list of predicted class labels (0 or 1) for each sample in the feature matrix.\n",
        "        \"\"\"\n",
        "        # INSERT CODE HERE\n",
        "        #P(attrition | x1,x2,x3,x4,x5,x6,x7,x8) = P(x| attrition)P(attrition) / ( P(x| attrition)P(attrition) + P(x|~attrition)P(~attrition))\n",
        "        #aka\n",
        "        #P(stay|x) vs P(leave|x)\n",
        "\n",
        "        ln_prior_pos, ln_prior_neg = np.log(self.prior_pos), np.log(self.prior_neg)\n",
        "        ln_likelihood_ratio = np.zeros(x.shape[0])\n",
        "        x_nan = np.isnan(x)\n",
        "\n",
        "        for feat_i in range(x.shape[1]):\n",
        "            stay_hist, stay_bins = self.stay_params[feat_i]\n",
        "            leave_hist, leave_bins = self.leave_params[feat_i]\n",
        "            \n",
        "            stay_hist_norm = stay_hist / np.sum(stay_hist)\n",
        "            stay_hist_norm = np.where(stay_hist_norm == 0.0, 1e-9, stay_hist_norm)  # Avoid log(0)\n",
        "            \n",
        "            leave_hist_norm = leave_hist / np.sum(leave_hist)\n",
        "            leave_hist_norm = np.where(leave_hist_norm == 0.0, 1e-9, leave_hist_norm)  # Avoid log(0)\n",
        "            \n",
        "\n",
        "            x_stay_idx = np.digitize(x[:, feat_i], stay_bins)\n",
        "            x_leave_idx = np.digitize(x[:, feat_i], leave_bins)\n",
        "\n",
        "            prob_x_given_stay = stay_hist_norm[x_stay_idx]\n",
        "            prob_x_given_leave = leave_hist_norm[x_leave_idx]\n",
        "\n",
        "            prob_x_given_stay[x_nan[:, feat_i]] = 0\n",
        "            prob_x_given_leave[x_nan[:, feat_i]] = 0\n",
        "\n",
        "            ln_likelihood_ratio += prob_x_given_leave - prob_x_given_stay\n",
        "\n",
        "        ln_likelihood_ratio += ln_prior_pos - ln_prior_neg\n",
        "        y_pred = np.where(ln_likelihood_ratio >= thresh, 1, 0)\n",
        "\n",
        "        return y_pred\n",
        "\n",
        "    def fit_gaussian_params(self, x, y):\n",
        "        \"\"\"\n",
        "        Computes mean and standard deviation for each feature in the dataset.\n",
        "\n",
        "        Parameters:\n",
        "        x (np.ndarray): The feature matrix, where rows are samples and columns are features.\n",
        "        y (np.ndarray): The target array, where each element corresponds to the label of a sample.\n",
        "\n",
        "        Returns:\n",
        "        (gaussian_stay_params, gaussian_leave_params): A tuple containing two lists of tuples,\n",
        "        one for 'stay' parameters and one for 'leave' parameters.\n",
        "        Each tuple in the list contains the mean and standard deviation for a feature.\n",
        "        \"\"\"\n",
        "\n",
        "        self.gaussian_stay_params = [(0, 0) for _ in range(x.shape[1])]\n",
        "        self.gaussian_leave_params = [(0, 0) for _ in range(x.shape[1])]\n",
        "\n",
        "        # INSERT CODE HERE\n",
        "\n",
        "        # calculate given that it is a stay/leave class what is the prob of x appearing\n",
        "        x_stay, x_leave = self.get_x_by_attrition(x,y)\n",
        "        # print(x_stay)\n",
        "\n",
        "        for feat_i in range(x.shape[1]):\n",
        "            x_stay_feat = x_stay[~np.isnan(x_stay[:, feat_i]), feat_i]\n",
        "            x_leave_feat = x_leave[~np.isnan(x_leave[:, feat_i]), feat_i]\n",
        "            \n",
        "            self.gaussian_stay_params[feat_i] = self.compute_gaussian_param(x_stay_feat)\n",
        "            self.gaussian_leave_params[feat_i] = self.compute_gaussian_param(x_leave_feat)\n",
        "            \n",
        "        return self.gaussian_stay_params, self.gaussian_leave_params\n",
        "\n",
        "    def gaussian_predict(self, x, thresh=0):\n",
        "        \"\"\"\n",
        "        Predicts the class labels for the given samples using the parametric model.\n",
        "\n",
        "        Parameters:\n",
        "        x (np.ndarray): The feature matrix for which predictions are to be made.\n",
        "        thresh (float): The threshold for log probability to decide between classes.\n",
        "\n",
        "        Returns:\n",
        "        result (list): A list of predicted class labels (0 or 1) for each sample in the feature matrix.\n",
        "        \"\"\"\n",
        "\n",
        "        y_pred = []\n",
        "\n",
        "        # INSERT CODE HERE\n",
        "        \n",
        "        ln_prior_pos, ln_prior_neg = np.log(self.prior_pos), np.log(self.prior_neg)\n",
        "        ln_likelihood_ratio = np.zeros(x.shape[0])\n",
        "        x_nan = np.isnan(x)\n",
        "        \n",
        "        for feat_i in range(x.shape[1]):\n",
        "            stay_mean, stay_var = self.gaussian_stay_params[feat_i]\n",
        "            leave_mean, leave_var = self.gaussian_leave_params[feat_i]\n",
        "\n",
        "            pdf_stay = stats.norm.pdf(x[:,feat_i],loc=stay_mean, scale=np.sqrt(stay_var))\n",
        "            pdf_stay[x_nan[:, feat_i]] = 1.0\n",
        "            log_pdf_stay = np.log(pdf_stay)\n",
        "            \n",
        "            pdf_leave = stats.norm.pdf(x[:,feat_i],loc=leave_mean, scale=np.sqrt(leave_var))\n",
        "            pdf_leave[x_nan[:, feat_i]] = 1.0\n",
        "            log_pdf_leave = np.log(pdf_leave)\n",
        "\n",
        "            ln_likelihood_ratio += log_pdf_leave - log_pdf_stay\n",
        "\n",
        "        ln_likelihood_ratio += ln_prior_pos - ln_prior_neg\n",
        "        y_pred = np.where(ln_likelihood_ratio >= thresh, 1, 0)\n",
        "        \n",
        "        return y_pred\n"
      ]
    },
    {
      "cell_type": "code",
      "execution_count": 9,
      "metadata": {},
      "outputs": [
        {
          "name": "stdout",
          "output_type": "stream",
          "text": [
            "train pos:neg = 213:1110 (19.18918918918919), TOTAL: 1323\n",
            "test pos:neg = 24:123 (19.51219512195122), TOTAL: 147\n"
          ]
        }
      ],
      "source": [
        "df_cleaned = preprocess_df(df)\n",
        "# print(df_cleaned.columns)\n",
        "df_train, df_test = train_test_split(df_cleaned,shuffle=True, train_size=0.9,stratify=df_cleaned[\"Attrition\"])\n",
        "x_train, y_train = pd_to_np(df_train)\n",
        "x_test, y_test = pd_to_np(df_test)\n",
        "\n",
        "n_pos_train, n_neg_train = np.sum(y_train), y_train.shape[0] - np.sum(y_train)\n",
        "print(f\"train pos:neg = {n_pos_train}:{n_neg_train} ({n_pos_train/n_neg_train*100}), TOTAL: {n_pos_train+n_neg_train}\")\n",
        "\n",
        "n_pos_test, n_neg_test = np.sum(y_test), y_test.shape[0] - np.sum(y_test)\n",
        "print(f\"test pos:neg = {n_pos_test}:{n_neg_test} ({n_pos_test/n_neg_test*100}), TOTAL: {n_pos_test+n_neg_test}\")\n",
        "\n",
        "# model = SimpleBayesClassifier(n_pos_train, n_neg_train)\n",
        "# stay_params, leave_params = model.fit_params(x_train, y_train)\n",
        "\n",
        "# y_pred = model.predict(x_train)\n",
        "# print(np.sum(y_pred == y_train))\n",
        "# y_pred_test = model.predict(x_test)\n",
        "# print(np.sum(y_pred_test == y_test))\n",
        "\n",
        "# gaussian_stay_params, gaussian_leave_params = model.fit_gaussian_params(x_train, y_train)\n",
        "# y_gaussian_pred = model.gaussian_predict(x_train)\n",
        "# print(np.sum(y_gaussian_pred == y_train))\n",
        "# y_gaussian_pred_test = model.gaussian_predict(x_test)\n",
        "# print(np.sum(y_gaussian_pred_test == y_test))"
      ]
    },
    {
      "cell_type": "code",
      "execution_count": 10,
      "metadata": {},
      "outputs": [],
      "source": [
        "model = SimpleBayesClassifier(n_pos_train, n_neg_train)\n",
        "# stay_params, leave_params = model.fit_params(x_train, y_train)\n",
        "\n",
        "# y_pred = model.predict(x_train)\n",
        "# print(np.sum(y_pred == y_train))\n",
        "# y_pred_test = model.predict(x_test)\n",
        "# print(np.sum(y_pred_test == y_test))\n",
        "\n",
        "# gaussian_stay_params, gaussian_leave_params = model.fit_gaussian_params(x_train, y_train)\n",
        "# y_gaussian_pred = model.gaussian_predict(x_train)\n",
        "# print(np.sum(y_gaussian_pred == y_train))\n",
        "# y_gaussian_pred_test = model.gaussian_predict(x_test)\n",
        "# print(np.sum(y_gaussian_pred_test == y_test))"
      ]
    },
    {
      "cell_type": "code",
      "execution_count": 11,
      "metadata": {},
      "outputs": [],
      "source": [
        "def check_prior():\n",
        "    \"\"\"\n",
        "    This function designed to test the implementation of the prior probability calculation in a Naive Bayes classifier. \n",
        "    Specifically, it checks if the classifier correctly computes the prior probabilities for the \n",
        "    negative and positive classes based on given input counts.\n",
        "    \"\"\"\n",
        "    \n",
        "    # prior_neg = 5/(5 + 5) = 0.5 and # prior_pos = 5/(5 + 5) = 0.5\n",
        "    assert (SimpleBayesClassifier(5, 5).prior_pos, SimpleBayesClassifier(5, 5).prior_neg) == (0.5, 0.5)\n",
        "\n",
        "    assert (SimpleBayesClassifier(3, 5).prior_pos, SimpleBayesClassifier(3, 5).prior_neg) == (3/8,5/8)\n",
        "    assert (SimpleBayesClassifier(0, 1).prior_pos, SimpleBayesClassifier(0, 1).prior_neg) == (0/1,1/1)\n",
        "    assert (SimpleBayesClassifier(1, 0).prior_pos, SimpleBayesClassifier(1, 0).prior_neg) == (1/1,0/1)\n",
        "    \n",
        "check_prior()"
      ]
    },
    {
      "cell_type": "code",
      "execution_count": 12,
      "metadata": {},
      "outputs": [
        {
          "data": {
            "text/plain": [
              "([(array([ 22,  49, 118, 158, 161, 149,  83,  61,  53,  29]),\n",
              "   array([22.2, 26.4, 30.6, 34.8, 39. , 43.2, 47.4, 51.6, 55.8])),\n",
              "  (array([225,   0,   0,  94,   0,   0, 153,   0,   0, 638]),\n",
              "   array([-0.7, -0.4, -0.1,  0.2,  0.5,  0.8,  1.1,  1.4,  1.7])),\n",
              "  (array([ 93,  74,  89, 101,  81,  88,  86,  90, 101,  90]),\n",
              "   array([ 241.7,  381.4,  521.1,  660.8,  800.5,  940.2, 1079.9, 1219.6,\n",
              "          1359.3])),\n",
              "  (array([214,   0,   0,  34,   0,   0, 612,   0,   0, 250]),\n",
              "   array([-0.7, -0.4, -0.1,  0.2,  0.5,  0.8,  1.1,  1.4,  1.7])),\n",
              "  (array([317, 115, 151,  83,  19,  45,  46,  37,  42,  40]),\n",
              "   array([ 3.8,  6.6,  9.4, 12.2, 15. , 17.8, 20.6, 23.4, 26.2])),\n",
              "  (array([ 98,   0, 166,   0,   0, 338,   0, 246,   0,  34]),\n",
              "   array([1.4, 1.8, 2.2, 2.6, 3. , 3.4, 3.8, 4.2, 4.6])),\n",
              "  (array([222,  12,   0, 378,   0,  84, 294,   0,  51,  69]),\n",
              "   array([-0.4,  0.2,  0.8,  1.4,  2. ,  2.6,  3.2,  3.8,  4.4])),\n",
              "  (array([158,   0,   0, 156,   0,   0, 295,   0,   0, 284]),\n",
              "   array([1.3, 1.6, 1.9, 2.2, 2.5, 2.8, 3.1, 3.4, 3.7])),\n",
              "  (array([223,   0,   0,   0,   0, 373,   0,   0,   0, 514]),\n",
              "   array([-0.8, -0.6, -0.4, -0.2,  0. ,  0.2,  0.4,  0.6,  0.8])),\n",
              "  (array([ 73,  93,  80,  95,  90,  77,  90,  91,  95, 104]),\n",
              "   array([37., 44., 51., 58., 65., 72., 79., 86., 93.])),\n",
              "  (array([ 37,   0,   0, 213,   0,   0, 536,   0,   0,  96]),\n",
              "   array([1.3, 1.6, 1.9, 2.2, 2.5, 2.8, 3.1, 3.4, 3.7])),\n",
              "  (array([283,   0, 339,   0,   0, 144,   0,  80,   0,  41]),\n",
              "   array([1.4, 1.8, 2.2, 2.6, 3. , 3.4, 3.8, 4.2, 4.6])),\n",
              "  (array([224,  90,  25, 139,  67, 101,  56, 179, 192,  37]),\n",
              "   array([-0.1,  0.8,  1.7,  2.6,  3.5,  4.4,  5.3,  6.2,  7.1])),\n",
              "  (array([163,   0,   0, 163,   0,   0, 263,   0,   0, 301]),\n",
              "   array([1.3, 1.6, 1.9, 2.2, 2.5, 2.8, 3.1, 3.4, 3.7])),\n",
              "  (array([218,   0,   0, 215,   0,   0, 424,   0,   0, 253]),\n",
              "   array([-0.7, -0.4, -0.1,  0.2,  0.5,  0.8,  1.1,  1.4,  1.7])),\n",
              "  (array([185, 219, 179,  72,  57,  43,  37,  11,  37,  44]),\n",
              "   array([ 2931.5,  4811. ,  6690.5,  8570. , 10449.5, 12329. , 14208.5,\n",
              "          16088. , 17967.5])),\n",
              "  (array([ 83, 105,  92,  87,  90,  89,  91,  87, 100,  69]),\n",
              "   array([ 4581.4,  7068.8,  9556.2, 12043.6, 14531. , 17018.4, 19505.8,\n",
              "          21993.2, 24480.6])),\n",
              "  (array([123, 302,  95, 104,  93,  35,  36,  39,  26,  32]),\n",
              "   array([0.9, 1.8, 2.7, 3.6, 4.5, 5.4, 6.3, 7.2, 8.1])),\n",
              "  (array([219,   0,   0,   0,   0, 676,   0,   0,   0, 215]),\n",
              "   array([-0.8, -0.6, -0.4, -0.2,  0. ,  0.2,  0.4,  0.6,  0.8])),\n",
              "  (array([232, 133, 182,  48,  50, 105,  35,  60,  18,  22]),\n",
              "   array([12.4, 13.8, 15.2, 16.6, 18. , 19.4, 20.8, 22.2, 23.6])),\n",
              "  (array([763,   0,   0,   0,   0,   0,   0,   0,   0, 128]),\n",
              "   array([3.1, 3.2, 3.3, 3.4, 3.5, 3.6, 3.7, 3.8, 3.9])),\n",
              "  (array([157,   0,   0, 186,   0,   0, 281,   0,   0, 267]),\n",
              "   array([1.3, 1.6, 1.9, 2.2, 2.5, 2.8, 3.1, 3.4, 3.7])),\n",
              "  (array([349,   0,   0, 397,   0,   0,  96,   0,   0,  44]),\n",
              "   array([0.3, 0.6, 0.9, 1.2, 1.5, 1.8, 2.1, 2.4, 2.7])),\n",
              "  (array([ 75, 203, 287,  74,  88,  66,  34,  31,  25,  12]),\n",
              "   array([ 3.7,  7.4, 11.1, 14.8, 18.5, 22.2, 25.9, 29.6, 33.3])),\n",
              "  (array([ 30,  46,   0, 317,   0, 298,  64,   0,  81,  39]),\n",
              "   array([0.6, 1.2, 1.8, 2.4, 3. , 3.6, 4.2, 4.8, 5.4])),\n",
              "  (array([ 37,   0,   0, 212,   0,   0, 558,   0,   0,  92]),\n",
              "   array([1.3, 1.6, 1.9, 2.2, 2.5, 2.8, 3.1, 3.4, 3.7])),\n",
              "  (array([241, 306, 202,  37,  36,  45,   7,   6,   7,   4]),\n",
              "   array([ 3.7,  7.4, 11.1, 14.8, 18.5, 22.2, 25.9, 29.6, 33.3])),\n",
              "  (array([152, 302,  89, 174,  63,  63,  20,  15,   9,   4]),\n",
              "   array([ 1.8,  3.6,  5.4,  7.2,  9. , 10.8, 12.6, 14.4, 16.2])),\n",
              "  (array([560,  96,  71,  25,  72,  10,  14,  16,  10,  11]),\n",
              "   array([ 1.5,  3. ,  4.5,  6. ,  7.5,  9. , 10.5, 12. , 13.5])),\n",
              "  (array([170, 307,  73,  16, 214,  57,  14,  23,   6,   4]),\n",
              "   array([ 1.7,  3.4,  5.1,  6.8,  8.5, 10.2, 11.9, 13.6, 15.3]))],\n",
              " [(array([17, 19, 28, 36, 21, 15, 11,  6,  9,  9]),\n",
              "   array([22., 26., 30., 34., 38., 42., 46., 50., 54.])),\n",
              "  (array([ 38,   0,   0,   8,   0,   0,  51,   0,   0, 116]),\n",
              "   array([-0.7, -0.4, -0.1,  0.2,  0.5,  0.8,  1.1,  1.4,  1.7])),\n",
              "  (array([17, 22, 15, 20, 15, 16,  9, 16, 13, 20]),\n",
              "   array([ 242.3,  381.6,  520.9,  660.2,  799.5,  938.8, 1078.1, 1217.4,\n",
              "          1356.7])),\n",
              "  (array([52,  0,  0,  9,  0,  0, 88,  0,  0, 64]),\n",
              "   array([-0.7, -0.4, -0.1,  0.2,  0.5,  0.8,  1.1,  1.4,  1.7])),\n",
              "  (array([48, 19, 28, 15,  6, 13,  9, 10, 19, 10]),\n",
              "   array([ 3.8,  6.6,  9.4, 12.2, 15. , 17.8, 20.6, 23.4, 26.2])),\n",
              "  (array([24,  0, 36,  0,  0, 73,  0, 38,  0,  5]),\n",
              "   array([1.4, 1.8, 2.2, 2.6, 3. , 3.4, 3.8, 4.2, 4.6])),\n",
              "  (array([44,  5,  0, 62,  0, 26, 47,  0,  6, 23]),\n",
              "   array([-0.4,  0.2,  0.8,  1.4,  2. ,  2.6,  3.2,  3.8,  4.4])),\n",
              "  (array([41,  0,  0, 34,  0,  0, 41,  0,  0, 44]),\n",
              "   array([1.3, 1.6, 1.9, 2.2, 2.5, 2.8, 3.1, 3.4, 3.7])),\n",
              "  (array([ 41,   0,   0,   0,   0,  65,   0,   0,   0, 107]),\n",
              "   array([-0.8, -0.6, -0.4, -0.2,  0. ,  0.2,  0.4,  0.6,  0.8])),\n",
              "  (array([20, 12, 22, 18, 12, 22, 13, 15, 14, 20]),\n",
              "   array([37.9, 44.8, 51.7, 58.6, 65.5, 72.4, 79.3, 86.2, 93.1])),\n",
              "  (array([17,  0,  0, 52,  0,  0, 96,  0,  0,  9]),\n",
              "   array([1.3, 1.6, 1.9, 2.2, 2.5, 2.8, 3.1, 3.4, 3.7])),\n",
              "  (array([108,   0,  43,   0,   0,  18,   0,   3,   0,   5]),\n",
              "   array([1.4, 1.8, 2.2, 2.6, 3. , 3.4, 3.8, 4.2, 4.6])),\n",
              "  (array([38,  6,  8, 49,  4,  6,  2, 35, 40, 25]),\n",
              "   array([-0.1,  0.8,  1.7,  2.6,  3.5,  4.4,  5.3,  6.2,  7.1])),\n",
              "  (array([39,  0,  0, 33,  0,  0, 56,  0,  0, 43]),\n",
              "   array([1.3, 1.6, 1.9, 2.2, 2.5, 2.8, 3.1, 3.4, 3.7])),\n",
              "  (array([49,  0,  0, 22,  0,  0, 57,  0,  0, 85]),\n",
              "   array([-0.7, -0.4, -0.1,  0.2,  0.5,  0.8,  1.1,  1.4,  1.7])),\n",
              "  (array([78, 37, 16, 12, 12,  5,  3,  0,  0,  4]),\n",
              "   array([ 2894.,  4779.,  6664.,  8549., 10434., 12319., 14204., 16089.,\n",
              "          17974.])),\n",
              "  (array([25, 10, 14, 23, 12, 15, 17, 18, 16, 19]),\n",
              "   array([ 4775.4,  7224.8,  9674.2, 12123.6, 14573. , 17022.4, 19471.8,\n",
              "          21921.2, 24370.6])),\n",
              "  (array([18, 67, 13, 15, 14, 14,  7, 12,  4, 10]),\n",
              "   array([0.9, 1.8, 2.7, 3.6, 4.5, 5.4, 6.3, 7.2, 8.1])),\n",
              "  (array([46,  0,  0,  0,  0, 81,  0,  0,  0, 86]),\n",
              "   array([-0.8, -0.6, -0.4, -0.2,  0. ,  0.2,  0.4,  0.6,  0.8])),\n",
              "  (array([58, 28, 28, 11, 11, 14,  6, 10,  5,  7]),\n",
              "   array([12.4, 13.8, 15.2, 16.6, 18. , 19.4, 20.8, 22.2, 23.6])),\n",
              "  (array([140,   0,   0,   0,   0,   0,   0,   0,   0,  29]),\n",
              "   array([3.1, 3.2, 3.3, 3.4, 3.5, 3.6, 3.7, 3.8, 3.9])),\n",
              "  (array([43,  0,  0, 32,  0,  0, 45,  0,  0, 42]),\n",
              "   array([1.3, 1.6, 1.9, 2.2, 2.5, 2.8, 3.1, 3.4, 3.7])),\n",
              "  (array([114,   0,   0,  38,   0,   0,  10,   0,   0,   9]),\n",
              "   array([0.3, 0.6, 0.9, 1.2, 1.5, 1.8, 2.1, 2.4, 2.7])),\n",
              "  (array([38, 54, 37, 13,  8,  7,  3,  1,  1,  2]),\n",
              "   array([ 4.,  8., 12., 16., 20., 24., 28., 32., 36.])),\n",
              "  (array([11,  6,  0, 70,  0, 54, 21,  0, 11,  2]),\n",
              "   array([0.6, 1.2, 1.8, 2.4, 3. , 3.6, 4.2, 4.8, 5.4])),\n",
              "  (array([19,  0,  0, 40,  0,  0, 86,  0,  0, 23]),\n",
              "   array([1.3, 1.6, 1.9, 2.2, 2.5, 2.8, 3.1, 3.4, 3.7])),\n",
              "  (array([86, 36, 21, 19,  4,  2,  4,  1,  0,  2]),\n",
              "   array([ 3.3,  6.6,  9.9, 13.2, 16.5, 19.8, 23.1, 26.4, 29.7])),\n",
              "  (array([48, 50, 23,  1, 25,  7,  7,  0,  1,  3]),\n",
              "   array([ 1.5,  3. ,  4.5,  6. ,  7.5,  9. , 10.5, 12. , 13.5])),\n",
              "  (array([112,  21,   9,   2,  15,   0,   3,   2,   2,   3]),\n",
              "   array([ 1.5,  3. ,  4.5,  6. ,  7.5,  9. , 10.5, 12. , 13.5])),\n",
              "  (array([66, 36, 23,  1,  3, 33,  5,  4,  0,  2]),\n",
              "   array([ 1.4,  2.8,  4.2,  5.6,  7. ,  8.4,  9.8, 11.2, 12.6]))])"
            ]
          },
          "execution_count": 12,
          "metadata": {},
          "output_type": "execute_result"
        }
      ],
      "source": [
        "model.fit_params(x_train, y_train)"
      ]
    },
    {
      "cell_type": "code",
      "execution_count": 13,
      "metadata": {},
      "outputs": [
        {
          "name": "stdout",
          "output_type": "stream",
          "text": [
            "STAY PARAMETERS\n",
            "Feature : 0\n",
            "BINS : [1 0 0 0 0 0 0 0 0 1]\n",
            "EDGES : [0.2 0.4 0.6 0.8 1.  1.2 1.4 1.6 1.8]\n",
            "Feature : 1\n",
            "BINS : [1 0 0 0 0 0 0 0 0 1]\n",
            "EDGES : [1.2 1.4 1.6 1.8 2.  2.2 2.4 2.6 2.8]\n",
            "Feature : 2\n",
            "BINS : [1 0 0 0 0 0 0 0 0 1]\n",
            "EDGES : [2.2 2.4 2.6 2.8 3.  3.2 3.4 3.6 3.8]\n",
            "Feature : 3\n",
            "BINS : [1 0 0 0 0 0 0 0 0 1]\n",
            "EDGES : [3.2 3.4 3.6 3.8 4.  4.2 4.4 4.6 4.8]\n",
            "\n",
            "LEAVE PARAMETERS\n",
            "Feature : 0\n",
            "BINS : [1 0 0 0 0 0 0 0 0 1]\n",
            "EDGES : [1.2 1.4 1.6 1.8 2.  2.2 2.4 2.6 2.8]\n",
            "Feature : 1\n",
            "BINS : [1 0 0 0 0 0 0 0 0 1]\n",
            "EDGES : [2.2 2.4 2.6 2.8 3.  3.2 3.4 3.6 3.8]\n",
            "Feature : 2\n",
            "BINS : [1 0 0 0 0 0 0 0 0 1]\n",
            "EDGES : [3.2 3.4 3.6 3.8 4.  4.2 4.4 4.6 4.8]\n",
            "Feature : 3\n",
            "BINS : [1 0 0 0 0 0 0 0 0 1]\n",
            "EDGES : [4.2 4.4 4.6 4.8 5.  5.2 5.4 5.6 5.8]\n"
          ]
        }
      ],
      "source": [
        "def check_fit_params():\n",
        "\n",
        "    \"\"\"\n",
        "    This function is designed to test the fit_params method of a SimpleBayesClassifier. \n",
        "    This method is presumably responsible for computing parameters for a Naive Bayes classifier \n",
        "    based on the provided training data. The parameters in this context is bins and edges from each histogram.\n",
        "    \"\"\"\n",
        "\n",
        "    T = SimpleBayesClassifier(2, 2)\n",
        "    X_TRAIN_CASE_1 = np.array([\n",
        "        [0, 1, 2, 3],\n",
        "        [1, 2, 3, 4],\n",
        "        [2, 3, 4, 5],\n",
        "        [3, 4, 5, 6]\n",
        "    ])\n",
        "    Y_TRAIN_CASE_1 = np.array([0, 1, 0, 1])\n",
        "    STAY_PARAMS_1, LEAVE_PARAMS_1 = T.fit_params(X_TRAIN_CASE_1, Y_TRAIN_CASE_1)\n",
        "\n",
        "    print(\"STAY PARAMETERS\")\n",
        "    for f_idx in range(len(STAY_PARAMS_1)):\n",
        "        print(f\"Feature : {f_idx}\")\n",
        "        print(f\"BINS : {STAY_PARAMS_1[f_idx][0]}\")\n",
        "        print(f\"EDGES : {STAY_PARAMS_1[f_idx][1]}\")\n",
        "    print(\"\")    \n",
        "    print(\"LEAVE PARAMETERS\")\n",
        "    for f_idx in range(len(STAY_PARAMS_1)):\n",
        "        print(f\"Feature : {f_idx}\")\n",
        "        print(f\"BINS : {LEAVE_PARAMS_1[f_idx][0]}\")\n",
        "        print(f\"EDGES : {LEAVE_PARAMS_1[f_idx][1]}\")\n",
        "\n",
        "check_fit_params()"
      ]
    },
    {
      "cell_type": "code",
      "execution_count": 14,
      "metadata": {
        "id": "yRoC5CEqopSR"
      },
      "outputs": [],
      "source": [
        "y_pred = model.predict(x = x_test)"
      ]
    },
    {
      "cell_type": "code",
      "execution_count": 15,
      "metadata": {
        "id": "ICDb3zONzk_r"
      },
      "outputs": [],
      "source": [
        "def evaluate(y_true, y_pred, show_result=True):\n",
        "    TP = np.sum((y_pred == 1) & (y_true == 1))\n",
        "    TN = np.sum((y_pred == 0) & (y_true == 0))\n",
        "    FP = np.sum((y_pred == 1) & (y_true == 0))\n",
        "    FN = np.sum((y_pred == 0) & (y_true == 1))\n",
        "    \n",
        "    total = y_true.shape[0]  # Total number of samples\n",
        "\n",
        "    accuracy = (TP + TN) / total\n",
        "    precision = TP / (TP + FP) if (TP + FP) > 0 else 0\n",
        "    recall = TP / (TP + FN) if (TP + FN) > 0 else 0\n",
        "    fpr = FP / (TN + FP) if (TN + FP) > 0 else 0\n",
        "    miss = FN / (FN + TP) if (FN + TP) > 0 else 0\n",
        "    specificity = TN / (TN + FP) if (TN + FP) > 0 else 0\n",
        "    F1 = (2 * precision * recall) / (precision + recall) if (precision + recall) > 0 else 0\n",
        "    \n",
        "    if show_result:\n",
        "        # print(f\"True Positives (TP): {TP}\")\n",
        "        # print(f\"True Negatives (TN): {TN}\")\n",
        "        # print(f\"False Positives (FP): {FP}\")\n",
        "        # print(f\"False Negatives (FN): {FN}\")\n",
        "        print(f\"Accuracy: {accuracy:.4f}\")\n",
        "        print(f\"Precision: {precision:.4f}\")\n",
        "        print(f\"Recall: {recall:.4f}\")\n",
        "        print(f\"F1 Score: {F1:.4f}\")\n",
        "        print(f\"False Positive Rate (FPR): {fpr:.4f}\")\n",
        "        print(f\"Miss Rate (FNR): {miss:.4f}\")\n",
        "        print(f\"Specificity: {specificity:.4f}\")\n",
        "\n",
        "    return accuracy, precision, recall, F1, fpr, miss, specificity\n"
      ]
    },
    {
      "cell_type": "code",
      "execution_count": 16,
      "metadata": {
        "colab": {
          "base_uri": "https://localhost:8080/"
        },
        "id": "ISYoqxHpF-3n",
        "outputId": "52dcd5c4-c1f2-417d-b34b-f96c66f136ed"
      },
      "outputs": [
        {
          "name": "stdout",
          "output_type": "stream",
          "text": [
            "Accuracy: 0.8503\n",
            "Precision: 0.7500\n",
            "Recall: 0.1250\n",
            "F1 Score: 0.2143\n",
            "False Positive Rate (FPR): 0.0081\n",
            "Miss Rate (FNR): 0.8750\n",
            "Specificity: 0.9919\n"
          ]
        },
        {
          "data": {
            "text/plain": [
              "(np.float64(0.8503401360544217),\n",
              " np.float64(0.75),\n",
              " np.float64(0.125),\n",
              " np.float64(0.21428571428571427),\n",
              " np.float64(0.008130081300813009),\n",
              " np.float64(0.875),\n",
              " np.float64(0.991869918699187))"
            ]
          },
          "execution_count": 16,
          "metadata": {},
          "output_type": "execute_result"
        }
      ],
      "source": [
        "evaluate(y_test, y_pred)"
      ]
    },
    {
      "attachments": {},
      "cell_type": "markdown",
      "metadata": {
        "id": "WMAR2VHjFtRY"
      },
      "source": [
        "### T12. Use the learned distributions to classify the test set. Report the results using the same metric as the previous question.\n"
      ]
    },
    {
      "cell_type": "code",
      "execution_count": 17,
      "metadata": {
        "id": "Lc1T-WVrFsyQ"
      },
      "outputs": [
        {
          "data": {
            "text/plain": [
              "([(np.float64(37.90939977349943), np.float64(78.87061379601353)),\n",
              "  (np.float64(1.0846846846846847), np.float64(1.4630987744501256)),\n",
              "  (np.float64(807.5397536394177), np.float64(164731.6885092338)),\n",
              "  (np.float64(0.809009009009009), np.float64(0.9905494683873061)),\n",
              "  (np.float64(8.998882681564245), np.float64(65.30837863986767)),\n",
              "  (np.float64(2.945578231292517), np.float64(1.0627979082789578)),\n",
              "  (np.float64(1.5810810810810811), np.float64(3.0163988312636962)),\n",
              "  (np.float64(2.789473684210526), np.float64(1.1561265986915779)),\n",
              "  (np.float64(0.26216216216216215), np.float64(0.595234964694424)),\n",
              "  (np.float64(65.80405405405405), np.float64(412.7926862673485)),\n",
              "  (np.float64(2.7834467120181405), np.float64(0.4712452630334068)),\n",
              "  (np.float64(2.1623449830890644), np.float64(1.2318177254060596)),\n",
              "  (np.float64(3.3135135135135134), np.float64(9.42062819576333)),\n",
              "  (np.float64(2.7887640449438202), np.float64(1.2093119555611664)),\n",
              "  (np.float64(0.6414414414414414), np.float64(1.078642967291616)),\n",
              "  (np.float64(6829.851809954751), np.float64(22898151.707677722)),\n",
              "  (np.float64(14253.466965285554), np.float64(49871936.213074446)),\n",
              "  (np.float64(2.63954802259887), np.float64(5.963859682722078)),\n",
              "  (np.float64(-0.0036036036036036037), np.float64(0.3909780050320591)),\n",
              "  (np.float64(15.246327683615819), np.float64(13.123503463244917)),\n",
              "  (np.float64(3.143658810325477), np.float64(0.12302095654134564)),\n",
              "  (np.float64(2.738496071829405), np.float64(1.1448592421282282)),\n",
              "  (np.float64(0.8137697516930023), np.float64(0.6662212291527599)),\n",
              "  (np.float64(11.830167597765364), np.float64(59.93093349146406)),\n",
              "  (np.float64(2.8217142857142856), np.float64(1.6939284897959181)),\n",
              "  (np.float64(2.7842046718576197), np.float64(0.45621324398262314)),\n",
              "  (np.float64(7.441077441077441), np.float64(38.3969209491095)),\n",
              "  (np.float64(4.5140291806958475), np.float64(12.945650544603033)),\n",
              "  (np.float64(2.2011299435028246), np.float64(9.952767084809603)),\n",
              "  (np.float64(4.360859728506787), np.float64(12.52475763190762))],\n",
              " [(np.float64(33.80701754385965), np.float64(99.43059402893196)),\n",
              "  (np.float64(1.1502347417840375), np.float64(1.2732041702484078)),\n",
              "  (np.float64(764.1411042944785), np.float64(170577.82671534494)),\n",
              "  (np.float64(0.7699530516431925), np.float64(1.2663272278428002)),\n",
              "  (np.float64(11.288135593220339), np.float64(77.57234511155798)),\n",
              "  (np.float64(2.7954545454545454), np.float64(1.0377066115702478)),\n",
              "  (np.float64(1.6431924882629108), np.float64(3.4219841742158734)),\n",
              "  (np.float64(2.55), np.float64(1.31)),\n",
              "  (np.float64(0.30985915492957744), np.float64(0.5988229848575018)),\n",
              "  (np.float64(65.10119047619048), np.float64(427.7695223922902)),\n",
              "  (np.float64(2.557471264367816), np.float64(0.5455476284846084)),\n",
              "  (np.float64(1.6101694915254237), np.float64(0.8819304797471991)),\n",
              "  (np.float64(3.7746478873239435), np.float64(10.371751636580044)),\n",
              "  (np.float64(2.6023391812865495), np.float64(1.1985910194589788)),\n",
              "  (np.float64(0.8356807511737089), np.float64(1.395534395732769)),\n",
              "  (np.float64(4666.167664670658), np.float64(13324450.558714904)),\n",
              "  (np.float64(14455.30177514793), np.float64(53102006.24620986)),\n",
              "  (np.float64(2.942528735632184), np.float64(7.054168318139781)),\n",
              "  (np.float64(0.18779342723004694), np.float64(0.5844519385483481)),\n",
              "  (np.float64(15.03370786516854), np.float64(14.695492993308925)),\n",
              "  (np.float64(3.171597633136095), np.float64(0.1421518854381849)),\n",
              "  (np.float64(2.5308641975308643), np.float64(1.2984301173601585)),\n",
              "  (np.float64(0.49707602339181284), np.float64(0.6827399883724906)),\n",
              "  (np.float64(8.463414634146341), np.float64(52.95597858417608)),\n",
              "  (np.float64(2.6228571428571428), np.float64(1.4349061224489799)),\n",
              "  (np.float64(2.6726190476190474), np.float64(0.7202026643990931)),\n",
              "  (np.float64(5.314285714285714), np.float64(31.381224489795915)),\n",
              "  (np.float64(3.272727272727273), np.float64(10.913498622589533)),\n",
              "  (np.float64(2.0177514792899407), np.float64(10.396134589125028)),\n",
              "  (np.float64(3.0751445086705202), np.float64(10.74001804270106))])"
            ]
          },
          "execution_count": 17,
          "metadata": {},
          "output_type": "execute_result"
        }
      ],
      "source": [
        "model.fit_gaussian_params(x_train, y_train)"
      ]
    },
    {
      "cell_type": "code",
      "execution_count": 18,
      "metadata": {},
      "outputs": [
        {
          "name": "stdout",
          "output_type": "stream",
          "text": [
            "STAY PARAMETERS\n",
            "Feature : 0\n",
            "Mean : 1.0\n",
            "STD. : 1.0\n",
            "Feature : 1\n",
            "Mean : 2.0\n",
            "STD. : 1.0\n",
            "Feature : 2\n",
            "Mean : 3.0\n",
            "STD. : 1.0\n",
            "Feature : 3\n",
            "Mean : 4.0\n",
            "STD. : 1.0\n",
            "\n",
            "LEAVE PARAMETERS\n",
            "Feature : 0\n",
            "Mean : 2.0\n",
            "STD. : 1.0\n",
            "Feature : 1\n",
            "Mean : 3.0\n",
            "STD. : 1.0\n",
            "Feature : 2\n",
            "Mean : 4.0\n",
            "STD. : 1.0\n",
            "Feature : 3\n",
            "Mean : 5.0\n",
            "STD. : 1.0\n"
          ]
        }
      ],
      "source": [
        "def check_fit_gaussian_params():\n",
        "\n",
        "    \"\"\"\n",
        "    This function is designed to test the fit_gaussian_params method of a SimpleBayesClassifier. \n",
        "    This method is presumably responsible for computing parameters for a Naive Bayes classifier \n",
        "    based on the provided training data. The parameters in this context is mean and STD.\n",
        "    \"\"\"\n",
        "\n",
        "    T = SimpleBayesClassifier(2, 2)\n",
        "    X_TRAIN_CASE_1 = np.array([\n",
        "        [0, 1, 2, 3],\n",
        "        [1, 2, 3, 4],\n",
        "        [2, 3, 4, 5],\n",
        "        [3, 4, 5, 6]\n",
        "    ])\n",
        "    Y_TRAIN_CASE_1 = np.array([0, 1, 0, 1])\n",
        "    STAY_PARAMS_1, LEAVE_PARAMS_1 = T.fit_gaussian_params(X_TRAIN_CASE_1, Y_TRAIN_CASE_1)\n",
        "\n",
        "    print(\"STAY PARAMETERS\")\n",
        "    for f_idx in range(len(STAY_PARAMS_1)):\n",
        "        print(f\"Feature : {f_idx}\")\n",
        "        print(f\"Mean : {STAY_PARAMS_1[f_idx][0]}\")\n",
        "        print(f\"STD. : {STAY_PARAMS_1[f_idx][1]}\")\n",
        "    print(\"\")    \n",
        "    print(\"LEAVE PARAMETERS\")\n",
        "    for f_idx in range(len(STAY_PARAMS_1)):\n",
        "        print(f\"Feature : {f_idx}\")\n",
        "        print(f\"Mean : {LEAVE_PARAMS_1[f_idx][0]}\")\n",
        "        print(f\"STD. : {LEAVE_PARAMS_1[f_idx][1]}\")\n",
        "    \n",
        "check_fit_gaussian_params()"
      ]
    },
    {
      "cell_type": "code",
      "execution_count": 19,
      "metadata": {
        "id": "lIB77js3Gq_N"
      },
      "outputs": [],
      "source": [
        "y_pred = model.gaussian_predict(x_test)"
      ]
    },
    {
      "cell_type": "code",
      "execution_count": 20,
      "metadata": {
        "colab": {
          "base_uri": "https://localhost:8080/"
        },
        "id": "E9klPSVfHROD",
        "outputId": "cda67822-6b24-44eb-fdee-63af89557f08"
      },
      "outputs": [
        {
          "name": "stdout",
          "output_type": "stream",
          "text": [
            "Accuracy: 0.7959\n",
            "Precision: 0.4118\n",
            "Recall: 0.5833\n",
            "F1 Score: 0.4828\n",
            "False Positive Rate (FPR): 0.1626\n",
            "Miss Rate (FNR): 0.4167\n",
            "Specificity: 0.8374\n"
          ]
        },
        {
          "data": {
            "text/plain": [
              "(np.float64(0.7959183673469388),\n",
              " np.float64(0.4117647058823529),\n",
              " np.float64(0.5833333333333334),\n",
              " np.float64(0.4827586206896552),\n",
              " np.float64(0.16260162601626016),\n",
              " np.float64(0.4166666666666667),\n",
              " np.float64(0.8373983739837398))"
            ]
          },
          "execution_count": 20,
          "metadata": {},
          "output_type": "execute_result"
        }
      ],
      "source": [
        "evaluate(y_test, y_pred)"
      ]
    },
    {
      "attachments": {},
      "cell_type": "markdown",
      "metadata": {
        "id": "qvJd3MoWIR3c"
      },
      "source": [
        "### T13 : The random choice baseline is the accuracy if you make a random guess for each test sample. Give random guess (50% leaving, and 50% staying) to the test samples. Report the overall Accuracy. Then, report the Precision, Recall, and F score for attrition prediction using the random choice baseline."
      ]
    },
    {
      "attachments": {},
      "cell_type": "markdown",
      "metadata": {
        "id": "-vbVLuCDIxNx"
      },
      "source": [
        "### T14. The majority rule is the accuracy if you use the most frequent class from the training set as the classification decision. Report the overall Accuracy. Then, report the Precision, Recall, and F score for attrition prediction using the majority rule baseline.\n",
        "\n"
      ]
    },
    {
      "attachments": {},
      "cell_type": "markdown",
      "metadata": {
        "id": "QJ6-fMVVJZcH"
      },
      "source": [
        "### T15. Compare the two baselines with your Naive Bayes classifier.\n"
      ]
    },
    {
      "cell_type": "code",
      "execution_count": 21,
      "metadata": {},
      "outputs": [
        {
          "name": "stdout",
          "output_type": "stream",
          "text": [
            "Random Choice Baseline:\n",
            "Accuracy: 0.4898\n",
            "Precision: 0.1077\n",
            "Recall: 0.2917\n",
            "F1 Score: 0.1573\n",
            "False Positive Rate (FPR): 0.4715\n",
            "Miss Rate (FNR): 0.7083\n",
            "Specificity: 0.5285\n",
            "---------------\n",
            "\n",
            "Majority Rule Baseline:\n",
            "Accuracy: 0.8367\n",
            "Precision: 0.0000\n",
            "Recall: 0.0000\n",
            "F1 Score: 0.0000\n",
            "False Positive Rate (FPR): 0.0000\n",
            "Miss Rate (FNR): 1.0000\n",
            "Specificity: 1.0000\n",
            "---------------\n",
            "\n",
            "Histogram-based Model Predictions:\n",
            "Accuracy: 0.8503\n",
            "Precision: 0.7500\n",
            "Recall: 0.1250\n",
            "F1 Score: 0.2143\n",
            "False Positive Rate (FPR): 0.0081\n",
            "Miss Rate (FNR): 0.8750\n",
            "Specificity: 0.9919\n",
            "---------------\n",
            "\n",
            "Gaussian-based Model Predictions:\n",
            "Accuracy: 0.7959\n",
            "Precision: 0.4118\n",
            "Recall: 0.5833\n",
            "F1 Score: 0.4828\n",
            "False Positive Rate (FPR): 0.1626\n",
            "Miss Rate (FNR): 0.4167\n",
            "Specificity: 0.8374\n",
            "---------------\n"
          ]
        }
      ],
      "source": [
        "# Random_choice_baseline\n",
        "y_rand_pred = np.random.choice([0, 1], size=y_test.shape[0])\n",
        "print(\"Random Choice Baseline:\")\n",
        "evaluate(y_test, y_rand_pred)\n",
        "print(\"---------------\")\n",
        "\n",
        "# Majority_rule_baseline\n",
        "majority_class = np.bincount(y_train).argmax()\n",
        "y_majority_pred = np.full(y_test.shape, majority_class)\n",
        "print(\"\\nMajority Rule Baseline:\")\n",
        "evaluate(y_test, y_majority_pred)\n",
        "print(\"---------------\")\n",
        "\n",
        "# Histogram-based predictions\n",
        "print(\"\\nHistogram-based Model Predictions:\")\n",
        "y_hist_pred = model.predict(x_test)\n",
        "evaluate(y_test, y_hist_pred)\n",
        "print(\"---------------\")\n",
        "\n",
        "# Gaussian-based predictions\n",
        "print(\"\\nGaussian-based Model Predictions:\")\n",
        "y_gaussian_pred = model.gaussian_predict(x_test)\n",
        "evaluate(y_test, y_gaussian_pred)\n",
        "print(\"---------------\")\n"
      ]
    },
    {
      "attachments": {},
      "cell_type": "markdown",
      "metadata": {
        "id": "jkX76nMpKVMR"
      },
      "source": [
        "### T16. Use the following threshold values\n",
        "$ t = np.arange(-5,5,0.05) $\n",
        "### find the best accuracy, and F score (and the corresponding thresholds)\n"
      ]
    },
    {
      "cell_type": "code",
      "execution_count": 22,
      "metadata": {},
      "outputs": [
        {
          "name": "stdout",
          "output_type": "stream",
          "text": [
            "MAX ACC:  0.8775510204081632\n",
            "MAX F1:  0.5263157894736842\n"
          ]
        }
      ],
      "source": [
        "thresholds = np.arange(-5,5,0.05)\n",
        "accuracy_at_t = np.zeros_like(thresholds)\n",
        "tpr_at_t = np.zeros_like(thresholds)\n",
        "fpr_at_t = np.zeros_like(thresholds)\n",
        "f1_at_t = np.zeros_like(thresholds)\n",
        "for i in range(len(thresholds)):\n",
        "    y_hist_pred = model.predict(x_test,thresh=thresholds[i])\n",
        "    accuracy, _, recall, F1, fpr, _, _ = evaluate(y_test, y_hist_pred,show_result=False)\n",
        "    accuracy_at_t[i] = accuracy\n",
        "    tpr_at_t[i] = recall\n",
        "    fpr_at_t[i] = fpr\n",
        "    f1_at_t[i] = F1\n",
        "    # print(\"---------------\")\n",
        "\n",
        "max_accuracy_index = np.argmax(accuracy_at_t)\n",
        "max_f1_index = np.argmax(f1_at_t)\n",
        "\n",
        "print(\"MAX ACC: \", accuracy_at_t[max_accuracy_index])\n",
        "print(\"MAX F1: \", f1_at_t[max_f1_index])"
      ]
    },
    {
      "attachments": {},
      "cell_type": "markdown",
      "metadata": {
        "id": "df3wpyLtUMKl"
      },
      "source": [
        "### T17. Plot the RoC of your classifier."
      ]
    },
    {
      "cell_type": "code",
      "execution_count": 24,
      "metadata": {},
      "outputs": [
        {
          "data": {
            "image/png": "[encoded data removed]",
            "text/plain": [
              "<Figure size 800x600 with 1 Axes>"
            ]
          },
          "metadata": {},
          "output_type": "display_data"
        }
      ],
      "source": [
        "import matplotlib.pyplot as plt\n",
        "\n",
        "# Generate the ROC curve\n",
        "plt.figure(figsize=(8, 6))\n",
        "plt.plot(fpr_at_t, tpr_at_t, label='ROC Curve', color='blue')\n",
        "\n",
        "# Add labels, title, and legend\n",
        "plt.xlabel('False Positive Rate (FPR)')\n",
        "plt.ylabel('True Positive Rate (TPR)')\n",
        "plt.title('ROC Curve')\n",
        "plt.legend(loc='lower right')\n",
        "plt.grid(True)\n",
        "\n",
        "# Display the plot\n",
        "plt.show()\n"
      ]
    },
    {
      "attachments": {},
      "cell_type": "markdown",
      "metadata": {
        "id": "ozvzlJyxZbH3"
      },
      "source": [
        "### T18. Change the number of discretization bins to 5. What happens to the RoC curve? Which discretization is better? The number of discretization bins can be considered as a hyperparameter, and must be chosen by comparing the final performance.\n"
      ]
    },
    {
      "cell_type": "code",
      "execution_count": 30,
      "metadata": {},
      "outputs": [
        {
          "name": "stdout",
          "output_type": "stream",
          "text": [
            "MAX ACC:  0.8775510204081632\n",
            "MAX F1:  0.5\n"
          ]
        },
        {
          "data": {
            "image/png": "[encoded data removed]",
            "text/plain": [
              "<Figure size 800x600 with 1 Axes>"
            ]
          },
          "metadata": {},
          "output_type": "display_data"
        }
      ],
      "source": [
        "model.fit_params(x_train,y_train, n_bins=5)\n",
        "\n",
        "\n",
        "accuracy_at_t = np.zeros_like(thresholds)\n",
        "tpr_at_t = np.zeros_like(thresholds)\n",
        "fpr_at_t = np.zeros_like(thresholds)\n",
        "f1_at_t = np.zeros_like(thresholds)\n",
        "for i in range(len(thresholds)):\n",
        "    y_hist_5_pred = model.predict(x_test,thresh=thresholds[i])\n",
        "    accuracy, _, recall, F1, fpr, _, _ = evaluate(y_test, y_hist_5_pred,show_result=False)\n",
        "    accuracy_at_t[i] = accuracy\n",
        "    tpr_at_t[i] = recall\n",
        "    fpr_at_t[i] = fpr\n",
        "    f1_at_t[i] = F1\n",
        "    # print(\"---------------\")\n",
        "\n",
        "max_accuracy_index = np.argmax(accuracy_at_t)\n",
        "max_f1_index = np.argmax(f1_at_t)\n",
        "\n",
        "print(\"MAX ACC: \", accuracy_at_t[max_accuracy_index])\n",
        "print(\"MAX F1: \", f1_at_t[max_f1_index])\n",
        "\n",
        "import matplotlib.pyplot as plt\n",
        "\n",
        "# Generate the ROC curve\n",
        "plt.figure(figsize=(8, 6))\n",
        "plt.plot(fpr_at_t, tpr_at_t, label='ROC Curve 5 bin', color='blue')\n",
        "\n",
        "# Add labels, title, and legend\n",
        "plt.xlabel('False Positive Rate (FPR)')\n",
        "plt.ylabel('True Positive Rate (TPR)')\n",
        "plt.title('ROC Curve')\n",
        "plt.legend(loc='lower right')\n",
        "plt.grid(True)\n",
        "\n",
        "# Display the plot\n",
        "plt.show()\n"
      ]
    },
    {
      "cell_type": "code",
      "execution_count": null,
      "metadata": {},
      "outputs": [],
      "source": []
    }
  ],
  "metadata": {
    "colab": {
      "provenance": [],
      "toc_visible": true
    },
    "kernelspec": {
      "display_name": "ml_env",
      "language": "python",
      "name": "python3"
    },
    "language_info": {
      "codemirror_mode": {
        "name": "ipython",
        "version": 3
      },
      "file_extension": ".py",
      "mimetype": "text/x-python",
      "name": "python",
      "nbconvert_exporter": "python",
      "pygments_lexer": "ipython3",
      "version": "3.11.11"
    }
  },
  "nbformat": 4,
  "nbformat_minor": 0
}
