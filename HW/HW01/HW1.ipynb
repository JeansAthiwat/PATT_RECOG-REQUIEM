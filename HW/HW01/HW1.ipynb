{
  "cells": [
    {
      "cell_type": "markdown",
      "metadata": {
        "id": "KS70QUavSX4m"
      },
      "source": [
        "# Homework 1 Clustering and Regression"
      ]
    },
    {
      "cell_type": "code",
      "source": [
        "import numpy as np\n",
        "import matplotlib.pyplot as plt\n"
      ],
      "metadata": {
        "id": "J28-g-fQSpbu"
      },
      "execution_count": 1,
      "outputs": []
    },
    {
      "cell_type": "markdown",
      "source": [
        "## Metrics\n",
        "\n",
        "In a population where the amount of cats is equal to the amount of dogs. Considering the following classification results from a classifier.\n",
        "\n",
        "Model A Predicted dog Predicted cat\n",
        "Actual dog 30 20\n",
        "Actual cat 10 40"
      ],
      "metadata": {
        "id": "kiEfOcHMSZF_"
      }
    },
    {
      "cell_type": "code",
      "source": [
        "# Cats are class 1 (Positive)\n",
        "class Model_A_Results():\n",
        "    def __init__(self, results,positive_class='cat',negative_class='dog'):\n",
        "        self.results = results\n",
        "        self.TP = results[1,1]\n",
        "        self.TN = results[0,0]\n",
        "        self.FP = results[0,1]\n",
        "        self.FN = results[1,0]\n",
        "        self.positive_class = positive_class\n",
        "        self.negative_class = negative_class\n",
        "\n",
        "    def print_results(self):\n",
        "        print(f\"Predicted cat - Actual cat (TP): {self.TP}\")\n",
        "        print(f\"Predicted cat - Actual dog (FP): {self.FP}\")\n",
        "        print(f\"Predicted dog - Actual cat (FN): {self.FN}\")\n",
        "        print(f\"Predicted dog - Actual dog (TN): {self.TN}\")\n",
        "\n",
        "results = np.array([[30,20],\n",
        "                    [10,40]])\n",
        "\n",
        "description = {\"TP\": (1,1),\n",
        "               \"TN\": (0,0),\n",
        "               \"FP\": (0,1),\n",
        "               \"FN\" : (1,0)}"
      ],
      "metadata": {
        "colab": {
          "base_uri": "https://localhost:8080/",
          "height": 106
        },
        "id": "Lg4OYlApS1Cv",
        "outputId": "b913cfe7-be19-4d37-9157-bae03dadd408"
      },
      "execution_count": 3,
      "outputs": [
        {
          "output_type": "error",
          "ename": "SyntaxError",
          "evalue": "':' expected after dictionary key (<ipython-input-3-a285eee009cb>, line 7)",
          "traceback": [
            "\u001b[0;36m  File \u001b[0;32m\"<ipython-input-3-a285eee009cb>\"\u001b[0;36m, line \u001b[0;32m7\u001b[0m\n\u001b[0;31m    \"FN\"}\u001b[0m\n\u001b[0m       ^\u001b[0m\n\u001b[0;31mSyntaxError\u001b[0m\u001b[0;31m:\u001b[0m ':' expected after dictionary key\n"
          ]
        }
      ]
    },
    {
      "cell_type": "code",
      "source": [],
      "metadata": {
        "id": "6XZtNKQOTp_r"
      },
      "execution_count": null,
      "outputs": []
    }
  ],
  "metadata": {
    "language_info": {
      "name": "python"
    },
    "colab": {
      "provenance": []
    },
    "kernelspec": {
      "name": "python3",
      "display_name": "Python 3"
    }
  },
  "nbformat": 4,
  "nbformat_minor": 0
}