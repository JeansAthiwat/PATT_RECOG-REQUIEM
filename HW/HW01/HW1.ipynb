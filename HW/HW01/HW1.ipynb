{
  "cells": [
    {
      "cell_type": "markdown",
      "metadata": {
        "id": "KS70QUavSX4m"
      },
      "source": [
        "# Homework 1 Clustering and Regression"
      ]
    },
    {
      "cell_type": "code",
      "source": [
        "import numpy as np\n",
        "import matplotlib.pyplot as plt\n"
      ],
      "metadata": {
        "id": "J28-g-fQSpbu"
      },
      "execution_count": 1,
      "outputs": []
    },
    {
      "cell_type": "markdown",
      "source": [
        "## Metrics\n",
        "\n",
        "In a population where the amount of cats is equal to the amount of dogs. Considering the following classification results from a classifier.\n",
        "\n",
        "Model A Predicted dog Predicted cat\n",
        "Actual dog 30 20\n",
        "Actual cat 10 40"
      ],
      "metadata": {
        "id": "kiEfOcHMSZF_"
      }
    },
    {
      "cell_type": "code",
      "source": [
        "# Cats are class 1 (Positive)\n",
        "class Model_A_Results():\n",
        "    def __init__(self, results,positive_class='cat',negative_class='dog'):\n",
        "        self.results = results\n",
        "        self.TP = results[1,1]\n",
        "        self.TN = results[0,0]\n",
        "        self.FP = results[0,1]\n",
        "        self.FN = results[1,0]\n",
        "        self.positive_class = positive_class\n",
        "        self.negative_class = negative_class\n",
        "\n",
        "    def print_results(self):\n",
        "        print(f\"Predicted cat - Actual cat (TP): {self.TP}\")\n",
        "        print(f\"Predicted cat - Actual dog (FP): {self.FP}\")\n",
        "        print(f\"Predicted dog - Actual cat (FN): {self.FN}\")\n",
        "        print(f\"Predicted dog - Actual dog (TN): {self.TN}\")\n",
        "\n",
        "    def accuracy(self):\n",
        "        return (self.TP + self.TN) / (self.TP + self.TN + self.FP + self.FN)\n",
        "\n",
        "    def precision(self):\n",
        "        return (self.TP) / (self.TP + self.FP)\n",
        "\n",
        "    def recall(self):\n",
        "        return (self.TP) / (self.TP + self.FN)\n",
        "\n",
        "    def F1(self):\n",
        "        return 1 / (1/self.precision() + 1/self.recall())\n",
        "\n",
        "\n",
        "results = np.array([[30,20],\n",
        "                    [10,40]])\n",
        "\n",
        "model_a = Model_A_Results(results)\n",
        "model_a.print_results()\n",
        "#T1\n",
        "print(f\"Accuracy: {model_a.accuracy()}\")\n",
        "\n",
        "#T2\n",
        "print(f\"Precision: {model_a.precision()}\")\n",
        "print(f\"Recall: {model_a.recall()}\""
      ],
      "metadata": {
        "colab": {
          "base_uri": "https://localhost:8080/"
        },
        "id": "Lg4OYlApS1Cv",
        "outputId": "9b33e051-29ca-4ced-d3f9-d72503b78cca"
      },
      "execution_count": 5,
      "outputs": [
        {
          "output_type": "stream",
          "name": "stdout",
          "text": [
            "Predicted cat - Actual cat (TP): 40\n",
            "Predicted cat - Actual dog (FP): 20\n",
            "Predicted dog - Actual cat (FN): 10\n",
            "Predicted dog - Actual dog (TN): 30\n",
            "Accuracy: 0.7\n"
          ]
        }
      ]
    },
    {
      "cell_type": "code",
      "source": [],
      "metadata": {
        "id": "6XZtNKQOTp_r"
      },
      "execution_count": null,
      "outputs": []
    }
  ],
  "metadata": {
    "language_info": {
      "name": "python"
    },
    "colab": {
      "provenance": []
    },
    "kernelspec": {
      "name": "python3",
      "display_name": "Python 3"
    }
  },
  "nbformat": 4,
  "nbformat_minor": 0
}